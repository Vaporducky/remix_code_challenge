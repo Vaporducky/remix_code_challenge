{
 "cells": [
  {
   "cell_type": "markdown",
   "id": "797b5c66-80f5-48e1-81ba-f4b74e4c8f94",
   "metadata": {},
   "source": [
    "# Brazilian E-Commerce: Olist"
   ]
  },
  {
   "cell_type": "markdown",
   "id": "9ebdd856-2706-4a1c-aa26-150dd23cc7f9",
   "metadata": {},
   "source": [
    "## Imports"
   ]
  },
  {
   "cell_type": "code",
   "execution_count": 18,
   "id": "e7708b08-e8af-481e-a8e7-b31862fccea2",
   "metadata": {},
   "outputs": [],
   "source": [
    "import re\n",
    "import json\n",
    "from pathlib import Path\n",
    "\n",
    "import pyspark.sql.functions as F\n",
    "from pyspark.sql import SparkSession, DataFrame"
   ]
  },
  {
   "cell_type": "markdown",
   "id": "3b77058b-b2b8-429e-9ad3-1890d3ae1844",
   "metadata": {},
   "source": [
    "### Create SparkSession"
   ]
  },
  {
   "cell_type": "code",
   "execution_count": 19,
   "id": "ad72e240-3354-4028-9d75-3f0ebc27664b",
   "metadata": {},
   "outputs": [
    {
     "name": "stderr",
     "output_type": "stream",
     "text": [
      "25/07/05 19:45:39 WARN Utils: Your hostname, TestBoi resolves to a loopback address: 127.0.1.1; using 192.168.1.79 instead (on interface eno1)\n",
      "25/07/05 19:45:39 WARN Utils: Set SPARK_LOCAL_IP if you need to bind to another address\n",
      "Setting default log level to \"WARN\".\n",
      "To adjust logging level use sc.setLogLevel(newLevel). For SparkR, use setLogLevel(newLevel).\n",
      "25/07/05 19:45:39 WARN NativeCodeLoader: Unable to load native-hadoop library for your platform... using builtin-java classes where applicable\n"
     ]
    }
   ],
   "source": [
    "spark = SparkSession.builder.config(\"spark.sql.repl.eagerEval.enabled\", True).getOrCreate()"
   ]
  },
  {
   "cell_type": "markdown",
   "id": "1a12b9fa-7610-4abc-9fda-ee602d40b585",
   "metadata": {},
   "source": [
    "### Utility functions"
   ]
  },
  {
   "cell_type": "code",
   "execution_count": 20,
   "id": "119e9542-e2bb-4268-a94f-49db98d2466d",
   "metadata": {},
   "outputs": [],
   "source": [
    "def schema_to_dict(schema) -> None:\n",
    "    print(json.dumps(json.loads(schema), indent=4, default=str))"
   ]
  },
  {
   "cell_type": "markdown",
   "id": "e9b8aeef-256d-4c72-abc0-9145ce4a83d3",
   "metadata": {},
   "source": [
    "## Entity Analysis"
   ]
  },
  {
   "cell_type": "code",
   "execution_count": 21,
   "id": "f95a3d36-4a2f-4c8a-a008-d784cfd6862f",
   "metadata": {},
   "outputs": [],
   "source": [
    "def normalize_entity(entity: str) -> str:\n",
    "    if entity.endswith(\"s\"):\n",
    "        return entity[:-1]\n",
    "    else:\n",
    "        return entity\n",
    "\n",
    "def generate_file_mapping(input_path: Path) -> dict[str, Path]:\n",
    "    csv_files: tuple[Path] = tuple(input_path.glob(\"olist*\"))\n",
    "    pattern = re.compile(r\"(?<=olist_).\\w+(?=_dataset)\")\n",
    "\n",
    "    # Generate mapping between table name and its system filepath\n",
    "    file_mapping: dict[str, Path] = {\n",
    "        normalize_entity(next(pattern.finditer(csv_file.stem)).group()): csv_file\n",
    "        for csv_file in csv_files\n",
    "    }\n",
    "\n",
    "    return file_mapping"
   ]
  },
  {
   "cell_type": "code",
   "execution_count": 22,
   "id": "e21a55c8-2a4b-438b-a886-bd18be2a15cc",
   "metadata": {},
   "outputs": [],
   "source": [
    "input_dir = Path(r\"/home/elianther/Documents/Projects/Remix/interview/code_challenge/data/input\")"
   ]
  },
  {
   "cell_type": "code",
   "execution_count": 23,
   "id": "081a9e21-9d8d-455f-800a-4bc10d15a59a",
   "metadata": {},
   "outputs": [],
   "source": [
    "table_mapping = generate_file_mapping(input_dir)"
   ]
  },
  {
   "cell_type": "code",
   "execution_count": 7,
   "id": "d136e21d-68a8-4768-9dcc-2107b20695c1",
   "metadata": {},
   "outputs": [
    {
     "name": "stdout",
     "output_type": "stream",
     "text": [
      "{'order': PosixPath('/home/elianther/Documents/Projects/Remix/interview/code_challenge/data/input/olist_orders_dataset.csv'), 'product': PosixPath('/home/elianther/Documents/Projects/Remix/interview/code_challenge/data/input/olist_products_dataset.csv'), 'seller': PosixPath('/home/elianther/Documents/Projects/Remix/interview/code_challenge/data/input/olist_sellers_dataset.csv'), 'customer': PosixPath('/home/elianther/Documents/Projects/Remix/interview/code_challenge/data/input/olist_customers_dataset.csv'), 'order_payment': PosixPath('/home/elianther/Documents/Projects/Remix/interview/code_challenge/data/input/olist_order_payments_dataset.csv'), 'geolocation': PosixPath('/home/elianther/Documents/Projects/Remix/interview/code_challenge/data/input/olist_geolocation_dataset.csv'), 'order_review': PosixPath('/home/elianther/Documents/Projects/Remix/interview/code_challenge/data/input/olist_order_reviews_dataset.csv'), 'order_item': PosixPath('/home/elianther/Documents/Projects/Remix/interview/code_challenge/data/input/olist_order_items_dataset.csv')}\n"
     ]
    }
   ],
   "source": [
    "print(table_mapping)"
   ]
  },
  {
   "cell_type": "code",
   "execution_count": 2,
   "id": "fcc474b9-edd5-41a4-b281-0a0f8edc648b",
   "metadata": {},
   "outputs": [],
   "source": [
    "code_path = Path(r\"/home/elianther/Documents/Projects/Remix/interview/code_challenge\")"
   ]
  },
  {
   "cell_type": "code",
   "execution_count": 15,
   "id": "fd64be93-8222-4c59-9931-d3206f137ca9",
   "metadata": {},
   "outputs": [
    {
     "name": "stdout",
     "output_type": "stream",
     "text": [
      "{\n",
      "    \"customer\": \"data/input/olist_orders_dataset.csv\",\n",
      "    \"geolocation\": \"data/input/olist_orders_dataset.csv\",\n",
      "    \"order\": \"data/input/olist_orders_dataset.csv\",\n",
      "    \"order_item\": \"data/input/olist_orders_dataset.csv\",\n",
      "    \"order_payment\": \"data/input/olist_orders_dataset.csv\",\n",
      "    \"order_review\": \"data/input/olist_orders_dataset.csv\",\n",
      "    \"product\": \"data/input/olist_orders_dataset.csv\",\n",
      "    \"seller\": \"data/input/olist_orders_dataset.csv\"\n",
      "}\n"
     ]
    }
   ],
   "source": [
    "table_relative_path = {table: table_mapping['order'].relative_to(code_path) for table, filepath in table_mapping.items()}\n",
    "table_relative_path = dict(sorted(table_relative_path.items()))\n",
    "print(json.dumps(table_relative_path, indent=4, default=str))"
   ]
  },
  {
   "cell_type": "code",
   "execution_count": 17,
   "id": "7ac90d7a-7c67-416b-a0f6-0335ed126745",
   "metadata": {},
   "outputs": [
    {
     "name": "stdout",
     "output_type": "stream",
     "text": [
      "customer.json geolocation.json order.json order_item.json order_payment.json order_review.json product.json seller.json\n"
     ]
    }
   ],
   "source": [
    "print(\" \".join(f\"{table}.json\" for table in table_relative_path.keys()))"
   ]
  },
  {
   "cell_type": "code",
   "execution_count": null,
   "id": "e016da7b-330f-4234-828b-1ab371dfa2ed",
   "metadata": {},
   "outputs": [],
   "source": [
    " "
   ]
  },
  {
   "cell_type": "code",
   "execution_count": null,
   "id": "795d9643-dd5f-470b-aa0c-214779576738",
   "metadata": {},
   "outputs": [],
   "source": []
  },
  {
   "cell_type": "markdown",
   "id": "1577b7d1-f878-45e0-95c7-631504821f45",
   "metadata": {},
   "source": [
    "### Orders Dataset\n",
    "\n",
    "**Assumptions:**\n",
    "1. `order_id` PK\n",
    "2. `customer_id` FK {unique}"
   ]
  },
  {
   "cell_type": "code",
   "execution_count": 49,
   "id": "208cc47e-30e5-4a72-b438-de0eb9510009",
   "metadata": {},
   "outputs": [],
   "source": [
    "order_df: DataFrame = (\n",
    "    spark.read\n",
    "    .format(\"csv\")\n",
    "    .options(header=True,\n",
    "             delimiter=\",\")\n",
    "    .load(table_mapping['order'].as_posix())\n",
    ")"
   ]
  },
  {
   "cell_type": "code",
   "execution_count": 48,
   "id": "137815f5-9178-46d7-9c14-4a94d7b4a205",
   "metadata": {},
   "outputs": [
    {
     "name": "stdout",
     "output_type": "stream",
     "text": [
      "The history saving thread hit an unexpected error (OperationalError('attempt to write a readonly database')).History will not be written to the database.\n"
     ]
    },
    {
     "name": "stderr",
     "output_type": "stream",
     "text": [
      "                                                                                "
     ]
    },
    {
     "data": {
      "text/html": [
       "<table border='1'>\n",
       "<tr><th>summary</th><th>order_id</th><th>customer_id</th><th>order_status</th><th>order_purchase_timestamp</th><th>order_approved_at</th><th>order_delivered_carrier_date</th><th>order_delivered_customer_date</th><th>order_estimated_delivery_date</th></tr>\n",
       "<tr><td>count</td><td>99441</td><td>99441</td><td>99441</td><td>99441</td><td>99281</td><td>97658</td><td>96476</td><td>99441</td></tr>\n",
       "<tr><td>mean</td><td>NULL</td><td>NULL</td><td>NULL</td><td>NULL</td><td>NULL</td><td>NULL</td><td>NULL</td><td>NULL</td></tr>\n",
       "<tr><td>stddev</td><td>NULL</td><td>NULL</td><td>NULL</td><td>NULL</td><td>NULL</td><td>NULL</td><td>NULL</td><td>NULL</td></tr>\n",
       "<tr><td>min</td><td>00010242fe8c5a6d1...</td><td>00012a2ce6f8dcda2...</td><td>approved</td><td>2016-09-04 21:15:19</td><td>2016-09-15 12:16:38</td><td>2016-10-08 10:34:01</td><td>2016-10-11 13:46:32</td><td>2016-09-30 00:00:00</td></tr>\n",
       "<tr><td>25%</td><td>NULL</td><td>NULL</td><td>NULL</td><td>NULL</td><td>NULL</td><td>NULL</td><td>NULL</td><td>NULL</td></tr>\n",
       "<tr><td>50%</td><td>NULL</td><td>NULL</td><td>NULL</td><td>NULL</td><td>NULL</td><td>NULL</td><td>NULL</td><td>NULL</td></tr>\n",
       "<tr><td>75%</td><td>NULL</td><td>NULL</td><td>NULL</td><td>NULL</td><td>NULL</td><td>NULL</td><td>NULL</td><td>NULL</td></tr>\n",
       "<tr><td>max</td><td>fffe41c64501cc87c...</td><td>ffffe8b65bbe3087b...</td><td>unavailable</td><td>2018-10-17 17:30:18</td><td>2018-09-03 17:40:06</td><td>2018-09-11 19:48:28</td><td>2018-10-17 13:22:46</td><td>2018-11-12 00:00:00</td></tr>\n",
       "</table>\n"
      ],
      "text/plain": [
       "+-------+--------------------+--------------------+------------+------------------------+-------------------+----------------------------+-----------------------------+-----------------------------+\n",
       "|summary|            order_id|         customer_id|order_status|order_purchase_timestamp|  order_approved_at|order_delivered_carrier_date|order_delivered_customer_date|order_estimated_delivery_date|\n",
       "+-------+--------------------+--------------------+------------+------------------------+-------------------+----------------------------+-----------------------------+-----------------------------+\n",
       "|  count|               99441|               99441|       99441|                   99441|              99281|                       97658|                        96476|                        99441|\n",
       "|   mean|                NULL|                NULL|        NULL|                    NULL|               NULL|                        NULL|                         NULL|                         NULL|\n",
       "| stddev|                NULL|                NULL|        NULL|                    NULL|               NULL|                        NULL|                         NULL|                         NULL|\n",
       "|    min|00010242fe8c5a6d1...|00012a2ce6f8dcda2...|    approved|     2016-09-04 21:15:19|2016-09-15 12:16:38|         2016-10-08 10:34:01|          2016-10-11 13:46:32|          2016-09-30 00:00:00|\n",
       "|    25%|                NULL|                NULL|        NULL|                    NULL|               NULL|                        NULL|                         NULL|                         NULL|\n",
       "|    50%|                NULL|                NULL|        NULL|                    NULL|               NULL|                        NULL|                         NULL|                         NULL|\n",
       "|    75%|                NULL|                NULL|        NULL|                    NULL|               NULL|                        NULL|                         NULL|                         NULL|\n",
       "|    max|fffe41c64501cc87c...|ffffe8b65bbe3087b...| unavailable|     2018-10-17 17:30:18|2018-09-03 17:40:06|         2018-09-11 19:48:28|          2018-10-17 13:22:46|          2018-11-12 00:00:00|\n",
       "+-------+--------------------+--------------------+------------+------------------------+-------------------+----------------------------+-----------------------------+-----------------------------+"
      ]
     },
     "execution_count": 48,
     "metadata": {},
     "output_type": "execute_result"
    }
   ],
   "source": [
    "order_df.summary()"
   ]
  },
  {
   "cell_type": "code",
   "execution_count": 47,
   "id": "5484413c-b90f-4a7f-bdd9-3e577dedb2e5",
   "metadata": {
    "scrolled": true
   },
   "outputs": [
    {
     "name": "stdout",
     "output_type": "stream",
     "text": [
      "{\n",
      "    \"fields\": [\n",
      "        {\n",
      "            \"metadata\": {},\n",
      "            \"name\": \"order_id\",\n",
      "            \"nullable\": true,\n",
      "            \"type\": \"string\"\n",
      "        },\n",
      "        {\n",
      "            \"metadata\": {},\n",
      "            \"name\": \"customer_id\",\n",
      "            \"nullable\": true,\n",
      "            \"type\": \"string\"\n",
      "        },\n",
      "        {\n",
      "            \"metadata\": {},\n",
      "            \"name\": \"order_status\",\n",
      "            \"nullable\": true,\n",
      "            \"type\": \"string\"\n",
      "        },\n",
      "        {\n",
      "            \"metadata\": {},\n",
      "            \"name\": \"order_purchase_timestamp\",\n",
      "            \"nullable\": true,\n",
      "            \"type\": \"string\"\n",
      "        },\n",
      "        {\n",
      "            \"metadata\": {},\n",
      "            \"name\": \"order_approved_at\",\n",
      "            \"nullable\": true,\n",
      "            \"type\": \"string\"\n",
      "        },\n",
      "        {\n",
      "            \"metadata\": {},\n",
      "            \"name\": \"order_delivered_carrier_date\",\n",
      "            \"nullable\": true,\n",
      "            \"type\": \"string\"\n",
      "        },\n",
      "        {\n",
      "            \"metadata\": {},\n",
      "            \"name\": \"order_delivered_customer_date\",\n",
      "            \"nullable\": true,\n",
      "            \"type\": \"string\"\n",
      "        },\n",
      "        {\n",
      "            \"metadata\": {},\n",
      "            \"name\": \"order_estimated_delivery_date\",\n",
      "            \"nullable\": true,\n",
      "            \"type\": \"string\"\n",
      "        }\n",
      "    ],\n",
      "    \"type\": \"struct\"\n",
      "}\n"
     ]
    }
   ],
   "source": [
    "schema_to_dict(order_df.schema.json())"
   ]
  },
  {
   "cell_type": "code",
   "execution_count": 52,
   "id": "75c945ce-2072-4d75-8a91-8dc1283659b1",
   "metadata": {},
   "outputs": [
    {
     "data": {
      "text/html": [
       "<table border='1'>\n",
       "<tr><th>order_status</th></tr>\n",
       "<tr><td>shipped</td></tr>\n",
       "<tr><td>canceled</td></tr>\n",
       "<tr><td>invoiced</td></tr>\n",
       "<tr><td>created</td></tr>\n",
       "<tr><td>delivered</td></tr>\n",
       "<tr><td>unavailable</td></tr>\n",
       "<tr><td>processing</td></tr>\n",
       "<tr><td>approved</td></tr>\n",
       "</table>\n"
      ],
      "text/plain": [
       "+------------+\n",
       "|order_status|\n",
       "+------------+\n",
       "|     shipped|\n",
       "|    canceled|\n",
       "|    invoiced|\n",
       "|     created|\n",
       "|   delivered|\n",
       "| unavailable|\n",
       "|  processing|\n",
       "|    approved|\n",
       "+------------+"
      ]
     },
     "execution_count": 52,
     "metadata": {},
     "output_type": "execute_result"
    }
   ],
   "source": [
    "order_df.select('order_status').distinct()"
   ]
  },
  {
   "cell_type": "markdown",
   "id": "916e408f-a16c-43e0-906b-06a91a4bc081",
   "metadata": {},
   "source": [
    "### Order Payments\n",
    "\n",
    "**Assumptions:**\n",
    "1. `order_id` PK\n",
    "2. The field `payment_sequential` contains information about various payment types"
   ]
  },
  {
   "cell_type": "code",
   "execution_count": 53,
   "id": "84e738ae-51e2-4663-b00d-5824c4e2dfc6",
   "metadata": {},
   "outputs": [],
   "source": [
    "order_payment_df: DataFrame = (\n",
    "    spark.read\n",
    "    .format(\"csv\")\n",
    "    .options(header=True,\n",
    "             delimiter=\",\")\n",
    "    .load(table_mapping['order_payment'].as_posix())\n",
    ")"
   ]
  },
  {
   "cell_type": "code",
   "execution_count": 56,
   "id": "fb3494f8-bd69-4ae1-a033-9249a568a282",
   "metadata": {},
   "outputs": [
    {
     "data": {
      "text/html": [
       "<table border='1'>\n",
       "<tr><th>order_id</th><th>payment_sequential</th><th>payment_type</th><th>payment_installments</th><th>payment_value</th></tr>\n",
       "<tr><td>b81ef226f3fe1789b...</td><td>1</td><td>credit_card</td><td>8</td><td>99.33</td></tr>\n",
       "<tr><td>a9810da82917af2d9...</td><td>1</td><td>credit_card</td><td>1</td><td>24.39</td></tr>\n",
       "<tr><td>25e8ea4e93396b6fa...</td><td>1</td><td>credit_card</td><td>1</td><td>65.71</td></tr>\n",
       "<tr><td>ba78997921bbcdc13...</td><td>1</td><td>credit_card</td><td>8</td><td>107.78</td></tr>\n",
       "<tr><td>42fdf880ba16b47b5...</td><td>1</td><td>credit_card</td><td>2</td><td>128.45</td></tr>\n",
       "<tr><td>298fcdf1f73eb413e...</td><td>1</td><td>credit_card</td><td>2</td><td>96.12</td></tr>\n",
       "<tr><td>771ee386b001f0620...</td><td>1</td><td>credit_card</td><td>1</td><td>81.16</td></tr>\n",
       "<tr><td>3d7239c394a212faa...</td><td>1</td><td>credit_card</td><td>3</td><td>51.84</td></tr>\n",
       "<tr><td>1f78449c87a54faf9...</td><td>1</td><td>credit_card</td><td>6</td><td>341.09</td></tr>\n",
       "<tr><td>0573b5e23cbd79800...</td><td>1</td><td>boleto</td><td>1</td><td>51.95</td></tr>\n",
       "<tr><td>d88e0d5fa41661ce0...</td><td>1</td><td>credit_card</td><td>8</td><td>188.73</td></tr>\n",
       "<tr><td>2480f727e869fdeb3...</td><td>1</td><td>credit_card</td><td>1</td><td>141.90</td></tr>\n",
       "<tr><td>616105c9352a9668c...</td><td>1</td><td>credit_card</td><td>1</td><td>75.78</td></tr>\n",
       "<tr><td>cf95215a722f3ebf2...</td><td>1</td><td>credit_card</td><td>5</td><td>102.66</td></tr>\n",
       "<tr><td>769214176682788a9...</td><td>1</td><td>credit_card</td><td>4</td><td>105.28</td></tr>\n",
       "<tr><td>12e5cfe0e4716b59a...</td><td>1</td><td>credit_card</td><td>10</td><td>157.45</td></tr>\n",
       "<tr><td>61059985a6fc0ad64...</td><td>1</td><td>credit_card</td><td>1</td><td>132.04</td></tr>\n",
       "<tr><td>79da3f5fe31ad1e45...</td><td>1</td><td>credit_card</td><td>1</td><td>98.94</td></tr>\n",
       "<tr><td>8ac09207f415d55ac...</td><td>1</td><td>credit_card</td><td>4</td><td>244.15</td></tr>\n",
       "<tr><td>b2349a3f20dfbeef6...</td><td>1</td><td>credit_card</td><td>3</td><td>136.71</td></tr>\n",
       "</table>\n",
       "only showing top 20 rows\n"
      ],
      "text/plain": [
       "+--------------------+------------------+------------+--------------------+-------------+\n",
       "|            order_id|payment_sequential|payment_type|payment_installments|payment_value|\n",
       "+--------------------+------------------+------------+--------------------+-------------+\n",
       "|b81ef226f3fe1789b...|                 1| credit_card|                   8|        99.33|\n",
       "|a9810da82917af2d9...|                 1| credit_card|                   1|        24.39|\n",
       "|25e8ea4e93396b6fa...|                 1| credit_card|                   1|        65.71|\n",
       "|ba78997921bbcdc13...|                 1| credit_card|                   8|       107.78|\n",
       "|42fdf880ba16b47b5...|                 1| credit_card|                   2|       128.45|\n",
       "|298fcdf1f73eb413e...|                 1| credit_card|                   2|        96.12|\n",
       "|771ee386b001f0620...|                 1| credit_card|                   1|        81.16|\n",
       "|3d7239c394a212faa...|                 1| credit_card|                   3|        51.84|\n",
       "|1f78449c87a54faf9...|                 1| credit_card|                   6|       341.09|\n",
       "|0573b5e23cbd79800...|                 1|      boleto|                   1|        51.95|\n",
       "|d88e0d5fa41661ce0...|                 1| credit_card|                   8|       188.73|\n",
       "|2480f727e869fdeb3...|                 1| credit_card|                   1|       141.90|\n",
       "|616105c9352a9668c...|                 1| credit_card|                   1|        75.78|\n",
       "|cf95215a722f3ebf2...|                 1| credit_card|                   5|       102.66|\n",
       "|769214176682788a9...|                 1| credit_card|                   4|       105.28|\n",
       "|12e5cfe0e4716b59a...|                 1| credit_card|                  10|       157.45|\n",
       "|61059985a6fc0ad64...|                 1| credit_card|                   1|       132.04|\n",
       "|79da3f5fe31ad1e45...|                 1| credit_card|                   1|        98.94|\n",
       "|8ac09207f415d55ac...|                 1| credit_card|                   4|       244.15|\n",
       "|b2349a3f20dfbeef6...|                 1| credit_card|                   3|       136.71|\n",
       "+--------------------+------------------+------------+--------------------+-------------+\n",
       "only showing top 20 rows"
      ]
     },
     "execution_count": 56,
     "metadata": {},
     "output_type": "execute_result"
    }
   ],
   "source": [
    "order_payment_df"
   ]
  },
  {
   "cell_type": "code",
   "execution_count": 54,
   "id": "a4b7f828-5f5e-4503-b151-bd78e97803ea",
   "metadata": {},
   "outputs": [
    {
     "name": "stderr",
     "output_type": "stream",
     "text": [
      "                                                                                "
     ]
    },
    {
     "data": {
      "text/html": [
       "<table border='1'>\n",
       "<tr><th>summary</th><th>order_id</th><th>payment_sequential</th><th>payment_type</th><th>payment_installments</th><th>payment_value</th></tr>\n",
       "<tr><td>count</td><td>103886</td><td>103886</td><td>103886</td><td>103886</td><td>103886</td></tr>\n",
       "<tr><td>mean</td><td>NULL</td><td>1.0926785129853878</td><td>NULL</td><td>2.853348863176944</td><td>154.10038041698792</td></tr>\n",
       "<tr><td>stddev</td><td>NULL</td><td>0.7065837791949958</td><td>NULL</td><td>2.687050673856492</td><td>217.494063864724</td></tr>\n",
       "<tr><td>min</td><td>00010242fe8c5a6d1...</td><td>1</td><td>boleto</td><td>0</td><td>0.00</td></tr>\n",
       "<tr><td>25%</td><td>NULL</td><td>1.0</td><td>NULL</td><td>1.0</td><td>56.79</td></tr>\n",
       "<tr><td>50%</td><td>NULL</td><td>1.0</td><td>NULL</td><td>1.0</td><td>100.0</td></tr>\n",
       "<tr><td>75%</td><td>NULL</td><td>1.0</td><td>NULL</td><td>4.0</td><td>171.79</td></tr>\n",
       "<tr><td>max</td><td>fffe41c64501cc87c...</td><td>9</td><td>voucher</td><td>9</td><td>999.68</td></tr>\n",
       "</table>\n"
      ],
      "text/plain": [
       "+-------+--------------------+------------------+------------+--------------------+------------------+\n",
       "|summary|            order_id|payment_sequential|payment_type|payment_installments|     payment_value|\n",
       "+-------+--------------------+------------------+------------+--------------------+------------------+\n",
       "|  count|              103886|            103886|      103886|              103886|            103886|\n",
       "|   mean|                NULL|1.0926785129853878|        NULL|   2.853348863176944|154.10038041698792|\n",
       "| stddev|                NULL|0.7065837791949958|        NULL|   2.687050673856492|  217.494063864724|\n",
       "|    min|00010242fe8c5a6d1...|                 1|      boleto|                   0|              0.00|\n",
       "|    25%|                NULL|               1.0|        NULL|                 1.0|             56.79|\n",
       "|    50%|                NULL|               1.0|        NULL|                 1.0|             100.0|\n",
       "|    75%|                NULL|               1.0|        NULL|                 4.0|            171.79|\n",
       "|    max|fffe41c64501cc87c...|                 9|     voucher|                   9|            999.68|\n",
       "+-------+--------------------+------------------+------------+--------------------+------------------+"
      ]
     },
     "execution_count": 54,
     "metadata": {},
     "output_type": "execute_result"
    }
   ],
   "source": [
    "order_payment_df.summary()"
   ]
  },
  {
   "cell_type": "code",
   "execution_count": 55,
   "id": "a32d0bd7-00f1-4dd0-bd0a-f373c78f839a",
   "metadata": {},
   "outputs": [
    {
     "name": "stdout",
     "output_type": "stream",
     "text": [
      "{\n",
      "    \"fields\": [\n",
      "        {\n",
      "            \"metadata\": {},\n",
      "            \"name\": \"order_id\",\n",
      "            \"nullable\": true,\n",
      "            \"type\": \"string\"\n",
      "        },\n",
      "        {\n",
      "            \"metadata\": {},\n",
      "            \"name\": \"payment_sequential\",\n",
      "            \"nullable\": true,\n",
      "            \"type\": \"string\"\n",
      "        },\n",
      "        {\n",
      "            \"metadata\": {},\n",
      "            \"name\": \"payment_type\",\n",
      "            \"nullable\": true,\n",
      "            \"type\": \"string\"\n",
      "        },\n",
      "        {\n",
      "            \"metadata\": {},\n",
      "            \"name\": \"payment_installments\",\n",
      "            \"nullable\": true,\n",
      "            \"type\": \"string\"\n",
      "        },\n",
      "        {\n",
      "            \"metadata\": {},\n",
      "            \"name\": \"payment_value\",\n",
      "            \"nullable\": true,\n",
      "            \"type\": \"string\"\n",
      "        }\n",
      "    ],\n",
      "    \"type\": \"struct\"\n",
      "}\n"
     ]
    }
   ],
   "source": [
    "schema_to_dict(order_payment_df.schema.json())"
   ]
  },
  {
   "cell_type": "code",
   "execution_count": 63,
   "id": "15b8d5a3-8182-49b8-862d-e243b0a01d6a",
   "metadata": {},
   "outputs": [
    {
     "data": {
      "text/html": [
       "<table border='1'>\n",
       "<tr><th>payment_sequential</th><th>payment_type</th></tr>\n",
       "<tr><td>1</td><td>voucher</td></tr>\n",
       "<tr><td>2</td><td>debit_card</td></tr>\n",
       "<tr><td>22</td><td>voucher</td></tr>\n",
       "<tr><td>19</td><td>voucher</td></tr>\n",
       "<tr><td>1</td><td>not_defined</td></tr>\n",
       "<tr><td>6</td><td>voucher</td></tr>\n",
       "<tr><td>7</td><td>voucher</td></tr>\n",
       "<tr><td>11</td><td>voucher</td></tr>\n",
       "<tr><td>16</td><td>voucher</td></tr>\n",
       "<tr><td>4</td><td>voucher</td></tr>\n",
       "<tr><td>10</td><td>voucher</td></tr>\n",
       "<tr><td>21</td><td>voucher</td></tr>\n",
       "<tr><td>26</td><td>voucher</td></tr>\n",
       "<tr><td>1</td><td>debit_card</td></tr>\n",
       "<tr><td>14</td><td>voucher</td></tr>\n",
       "<tr><td>9</td><td>voucher</td></tr>\n",
       "<tr><td>28</td><td>voucher</td></tr>\n",
       "<tr><td>5</td><td>voucher</td></tr>\n",
       "<tr><td>1</td><td>credit_card</td></tr>\n",
       "<tr><td>15</td><td>voucher</td></tr>\n",
       "</table>\n",
       "only showing top 20 rows\n"
      ],
      "text/plain": [
       "+------------------+------------+\n",
       "|payment_sequential|payment_type|\n",
       "+------------------+------------+\n",
       "|                 1|     voucher|\n",
       "|                 2|  debit_card|\n",
       "|                22|     voucher|\n",
       "|                19|     voucher|\n",
       "|                 1| not_defined|\n",
       "|                 6|     voucher|\n",
       "|                 7|     voucher|\n",
       "|                11|     voucher|\n",
       "|                16|     voucher|\n",
       "|                 4|     voucher|\n",
       "|                10|     voucher|\n",
       "|                21|     voucher|\n",
       "|                26|     voucher|\n",
       "|                 1|  debit_card|\n",
       "|                14|     voucher|\n",
       "|                 9|     voucher|\n",
       "|                28|     voucher|\n",
       "|                 5|     voucher|\n",
       "|                 1| credit_card|\n",
       "|                15|     voucher|\n",
       "+------------------+------------+\n",
       "only showing top 20 rows"
      ]
     },
     "execution_count": 63,
     "metadata": {},
     "output_type": "execute_result"
    }
   ],
   "source": [
    "order_payment_df.select('payment_sequential', 'payment_type').distinct()"
   ]
  },
  {
   "cell_type": "code",
   "execution_count": 70,
   "id": "cb7bf8a7-a2b6-47ce-a736-5d7e276980ed",
   "metadata": {},
   "outputs": [
    {
     "data": {
      "text/html": [
       "<table border='1'>\n",
       "<tr><th>order_id</th><th>payment_sequential</th><th>payment_type</th><th>payment_installments</th><th>payment_value</th><th>payment_type</th><th>count</th></tr>\n",
       "<tr><td>cc204c830046f86bf...</td><td>2</td><td>credit_card</td><td>1</td><td>100.92</td><td>credit_card</td><td>2</td></tr>\n",
       "<tr><td>cc204c830046f86bf...</td><td>1</td><td>credit_card</td><td>8</td><td>236.00</td><td>credit_card</td><td>2</td></tr>\n",
       "<tr><td>098fa8e236952567d...</td><td>2</td><td>voucher</td><td>1</td><td>78.24</td><td>voucher</td><td>4</td></tr>\n",
       "<tr><td>098fa8e236952567d...</td><td>3</td><td>voucher</td><td>1</td><td>11.85</td><td>voucher</td><td>4</td></tr>\n",
       "<tr><td>098fa8e236952567d...</td><td>5</td><td>voucher</td><td>1</td><td>22.35</td><td>voucher</td><td>4</td></tr>\n",
       "<tr><td>098fa8e236952567d...</td><td>4</td><td>voucher</td><td>1</td><td>17.20</td><td>voucher</td><td>4</td></tr>\n",
       "<tr><td>098fa8e236952567d...</td><td>1</td><td>credit_card</td><td>1</td><td>1.26</td><td>voucher</td><td>4</td></tr>\n",
       "<tr><td>642d9648ee8c3cd7d...</td><td>1</td><td>credit_card</td><td>2</td><td>63.57</td><td>credit_card</td><td>2</td></tr>\n",
       "<tr><td>642d9648ee8c3cd7d...</td><td>2</td><td>credit_card</td><td>8</td><td>114.87</td><td>credit_card</td><td>2</td></tr>\n",
       "<tr><td>a3a97bc6e236d5351...</td><td>4</td><td>voucher</td><td>1</td><td>6.67</td><td>voucher</td><td>5</td></tr>\n",
       "<tr><td>a3a97bc6e236d5351...</td><td>1</td><td>voucher</td><td>1</td><td>8.33</td><td>voucher</td><td>5</td></tr>\n",
       "<tr><td>a3a97bc6e236d5351...</td><td>2</td><td>voucher</td><td>1</td><td>6.67</td><td>voucher</td><td>5</td></tr>\n",
       "<tr><td>a3a97bc6e236d5351...</td><td>5</td><td>voucher</td><td>1</td><td>6.09</td><td>voucher</td><td>5</td></tr>\n",
       "<tr><td>a3a97bc6e236d5351...</td><td>3</td><td>voucher</td><td>1</td><td>6.67</td><td>voucher</td><td>5</td></tr>\n",
       "<tr><td>6a0c96e8fd6d1c42b...</td><td>4</td><td>voucher</td><td>1</td><td>64.25</td><td>voucher</td><td>3</td></tr>\n",
       "<tr><td>6a0c96e8fd6d1c42b...</td><td>2</td><td>voucher</td><td>1</td><td>25.70</td><td>voucher</td><td>3</td></tr>\n",
       "<tr><td>6a0c96e8fd6d1c42b...</td><td>1</td><td>credit_card</td><td>4</td><td>49.32</td><td>voucher</td><td>3</td></tr>\n",
       "<tr><td>6a0c96e8fd6d1c42b...</td><td>3</td><td>voucher</td><td>1</td><td>64.25</td><td>voucher</td><td>3</td></tr>\n",
       "<tr><td>4f0b86c3487e56b6e...</td><td>3</td><td>voucher</td><td>1</td><td>49.06</td><td>voucher</td><td>3</td></tr>\n",
       "<tr><td>4f0b86c3487e56b6e...</td><td>4</td><td>voucher</td><td>1</td><td>4.99</td><td>voucher</td><td>3</td></tr>\n",
       "</table>\n",
       "only showing top 20 rows\n"
      ],
      "text/plain": [
       "+--------------------+------------------+------------+--------------------+-------------+------------+-----+\n",
       "|            order_id|payment_sequential|payment_type|payment_installments|payment_value|payment_type|count|\n",
       "+--------------------+------------------+------------+--------------------+-------------+------------+-----+\n",
       "|cc204c830046f86bf...|                 2| credit_card|                   1|       100.92| credit_card|    2|\n",
       "|cc204c830046f86bf...|                 1| credit_card|                   8|       236.00| credit_card|    2|\n",
       "|098fa8e236952567d...|                 2|     voucher|                   1|        78.24|     voucher|    4|\n",
       "|098fa8e236952567d...|                 3|     voucher|                   1|        11.85|     voucher|    4|\n",
       "|098fa8e236952567d...|                 5|     voucher|                   1|        22.35|     voucher|    4|\n",
       "|098fa8e236952567d...|                 4|     voucher|                   1|        17.20|     voucher|    4|\n",
       "|098fa8e236952567d...|                 1| credit_card|                   1|         1.26|     voucher|    4|\n",
       "|642d9648ee8c3cd7d...|                 1| credit_card|                   2|        63.57| credit_card|    2|\n",
       "|642d9648ee8c3cd7d...|                 2| credit_card|                   8|       114.87| credit_card|    2|\n",
       "|a3a97bc6e236d5351...|                 4|     voucher|                   1|         6.67|     voucher|    5|\n",
       "|a3a97bc6e236d5351...|                 1|     voucher|                   1|         8.33|     voucher|    5|\n",
       "|a3a97bc6e236d5351...|                 2|     voucher|                   1|         6.67|     voucher|    5|\n",
       "|a3a97bc6e236d5351...|                 5|     voucher|                   1|         6.09|     voucher|    5|\n",
       "|a3a97bc6e236d5351...|                 3|     voucher|                   1|         6.67|     voucher|    5|\n",
       "|6a0c96e8fd6d1c42b...|                 4|     voucher|                   1|        64.25|     voucher|    3|\n",
       "|6a0c96e8fd6d1c42b...|                 2|     voucher|                   1|        25.70|     voucher|    3|\n",
       "|6a0c96e8fd6d1c42b...|                 1| credit_card|                   4|        49.32|     voucher|    3|\n",
       "|6a0c96e8fd6d1c42b...|                 3|     voucher|                   1|        64.25|     voucher|    3|\n",
       "|4f0b86c3487e56b6e...|                 3|     voucher|                   1|        49.06|     voucher|    3|\n",
       "|4f0b86c3487e56b6e...|                 4|     voucher|                   1|         4.99|     voucher|    3|\n",
       "+--------------------+------------------+------------+--------------------+-------------+------------+-----+\n",
       "only showing top 20 rows"
      ]
     },
     "execution_count": 70,
     "metadata": {},
     "output_type": "execute_result"
    }
   ],
   "source": [
    "orders_with_more_than_one_payment_type = (\n",
    "    order_payment_df\n",
    "    .join(order_df, 'order_id', how='inner')\n",
    "    .groupBy('order_id', 'payment_type')\n",
    "    .count()\n",
    "    .where('count > 1')\n",
    ")\n",
    "order_payment_df.join(orders_with_more_than_one_payment_type, 'order_id', how='inner')"
   ]
  },
  {
   "cell_type": "markdown",
   "id": "c6fba068-d99f-4e4f-8d3c-22461e0967c7",
   "metadata": {},
   "source": [
    "### Customer\n",
    "\n",
    "**Assumptions**\n",
    "- `customer_id`: PK\n",
    "- `customer_zip_code_prefix`: FK\n",
    "\n",
    "Interestingly, the table has another field called `customer_id` which makes it unclear if the `customer_id` in the orders table is unique or not... or what is the actual purpose of it."
   ]
  },
  {
   "cell_type": "code",
   "execution_count": 74,
   "id": "f717704e-8450-46a1-b35a-dfe38118c02c",
   "metadata": {},
   "outputs": [],
   "source": [
    "customer_df: DataFrame = (\n",
    "    spark.read\n",
    "    .format(\"csv\")\n",
    "    .options(header=True,\n",
    "             delimiter=\",\")\n",
    "    .load(table_mapping['customer'].as_posix())\n",
    ")"
   ]
  },
  {
   "cell_type": "code",
   "execution_count": 75,
   "id": "8093c643-ef3c-4222-b300-daae1ddbb889",
   "metadata": {},
   "outputs": [
    {
     "name": "stderr",
     "output_type": "stream",
     "text": [
      "                                                                                "
     ]
    },
    {
     "data": {
      "text/html": [
       "<table border='1'>\n",
       "<tr><th>summary</th><th>customer_id</th><th>customer_unique_id</th><th>customer_zip_code_prefix</th><th>customer_city</th><th>customer_state</th></tr>\n",
       "<tr><td>count</td><td>99441</td><td>99441</td><td>99441</td><td>99441</td><td>99441</td></tr>\n",
       "<tr><td>mean</td><td>NULL</td><td>NULL</td><td>35137.47458291851</td><td>NULL</td><td>NULL</td></tr>\n",
       "<tr><td>stddev</td><td>NULL</td><td>NULL</td><td>29797.93899620613</td><td>NULL</td><td>NULL</td></tr>\n",
       "<tr><td>min</td><td>00012a2ce6f8dcda2...</td><td>0000366f3b9a7992b...</td><td>01003</td><td>abadia dos dourados</td><td>AC</td></tr>\n",
       "<tr><td>25%</td><td>NULL</td><td>NULL</td><td>11346.0</td><td>NULL</td><td>NULL</td></tr>\n",
       "<tr><td>50%</td><td>NULL</td><td>NULL</td><td>24415.0</td><td>NULL</td><td>NULL</td></tr>\n",
       "<tr><td>75%</td><td>NULL</td><td>NULL</td><td>58884.0</td><td>NULL</td><td>NULL</td></tr>\n",
       "<tr><td>max</td><td>ffffe8b65bbe3087b...</td><td>ffffd2657e2aad290...</td><td>99990</td><td>zortea</td><td>TO</td></tr>\n",
       "</table>\n"
      ],
      "text/plain": [
       "+-------+--------------------+--------------------+------------------------+-------------------+--------------+\n",
       "|summary|         customer_id|  customer_unique_id|customer_zip_code_prefix|      customer_city|customer_state|\n",
       "+-------+--------------------+--------------------+------------------------+-------------------+--------------+\n",
       "|  count|               99441|               99441|                   99441|              99441|         99441|\n",
       "|   mean|                NULL|                NULL|       35137.47458291851|               NULL|          NULL|\n",
       "| stddev|                NULL|                NULL|       29797.93899620613|               NULL|          NULL|\n",
       "|    min|00012a2ce6f8dcda2...|0000366f3b9a7992b...|                   01003|abadia dos dourados|            AC|\n",
       "|    25%|                NULL|                NULL|                 11346.0|               NULL|          NULL|\n",
       "|    50%|                NULL|                NULL|                 24415.0|               NULL|          NULL|\n",
       "|    75%|                NULL|                NULL|                 58884.0|               NULL|          NULL|\n",
       "|    max|ffffe8b65bbe3087b...|ffffd2657e2aad290...|                   99990|             zortea|            TO|\n",
       "+-------+--------------------+--------------------+------------------------+-------------------+--------------+"
      ]
     },
     "execution_count": 75,
     "metadata": {},
     "output_type": "execute_result"
    }
   ],
   "source": [
    "customer_df.summary()"
   ]
  },
  {
   "cell_type": "code",
   "execution_count": 76,
   "id": "11b9e796-fb59-4ebe-b569-537c187d63b3",
   "metadata": {},
   "outputs": [
    {
     "name": "stdout",
     "output_type": "stream",
     "text": [
      "{\n",
      "    \"fields\": [\n",
      "        {\n",
      "            \"metadata\": {},\n",
      "            \"name\": \"customer_id\",\n",
      "            \"nullable\": true,\n",
      "            \"type\": \"string\"\n",
      "        },\n",
      "        {\n",
      "            \"metadata\": {},\n",
      "            \"name\": \"customer_unique_id\",\n",
      "            \"nullable\": true,\n",
      "            \"type\": \"string\"\n",
      "        },\n",
      "        {\n",
      "            \"metadata\": {},\n",
      "            \"name\": \"customer_zip_code_prefix\",\n",
      "            \"nullable\": true,\n",
      "            \"type\": \"string\"\n",
      "        },\n",
      "        {\n",
      "            \"metadata\": {},\n",
      "            \"name\": \"customer_city\",\n",
      "            \"nullable\": true,\n",
      "            \"type\": \"string\"\n",
      "        },\n",
      "        {\n",
      "            \"metadata\": {},\n",
      "            \"name\": \"customer_state\",\n",
      "            \"nullable\": true,\n",
      "            \"type\": \"string\"\n",
      "        }\n",
      "    ],\n",
      "    \"type\": \"struct\"\n",
      "}\n"
     ]
    }
   ],
   "source": [
    "schema_to_dict(customer_df.schema.json())"
   ]
  },
  {
   "cell_type": "code",
   "execution_count": 82,
   "id": "1c74ce44-2c18-4f38-87e0-011319064c7a",
   "metadata": {},
   "outputs": [],
   "source": [
    "customer_df.createOrReplaceTempView('customer')"
   ]
  },
  {
   "cell_type": "code",
   "execution_count": 88,
   "id": "fb5bb7bd-8fad-4786-83e9-80765e71a7d6",
   "metadata": {},
   "outputs": [
    {
     "data": {
      "text/html": [
       "<table border='1'>\n",
       "<tr><th>customer_id</th><th>customer_unique_id</th><th>customer_zip_code_prefix</th><th>customer_city</th><th>customer_state</th><th>customer_id_count</th></tr>\n",
       "<tr><td>1afe8a9c67eec3516...</td><td>00172711b30d52eea...</td><td>45200</td><td>jequie</td><td>BA</td><td>2</td></tr>\n",
       "<tr><td>24b0e2bd287e47d54...</td><td>00172711b30d52eea...</td><td>45200</td><td>jequie</td><td>BA</td><td>2</td></tr>\n",
       "<tr><td>1b4a75b3478138e99...</td><td>004288347e5e88a27...</td><td>26220</td><td>nova iguacu</td><td>RJ</td><td>2</td></tr>\n",
       "<tr><td>f6efe5d5c7b85e123...</td><td>004288347e5e88a27...</td><td>26220</td><td>nova iguacu</td><td>RJ</td><td>2</td></tr>\n",
       "<tr><td>49cf243e0d353cd41...</td><td>004b45ec5c6418746...</td><td>57055</td><td>maceio</td><td>AL</td><td>2</td></tr>\n",
       "<tr><td>d95f60d70d9ea9a7f...</td><td>004b45ec5c6418746...</td><td>57035</td><td>maceio</td><td>AL</td><td>2</td></tr>\n",
       "<tr><td>8ac44e9c15d396b8c...</td><td>0058f300f57d7b93c...</td><td>41370</td><td>salvador</td><td>BA</td><td>2</td></tr>\n",
       "<tr><td>f530197ea86ced948...</td><td>0058f300f57d7b93c...</td><td>40731</td><td>salvador</td><td>BA</td><td>2</td></tr>\n",
       "<tr><td>876356df457f95245...</td><td>00a39521eb40f7012...</td><td>72595</td><td>brasilia</td><td>DF</td><td>2</td></tr>\n",
       "<tr><td>cbb68c721ba9ddb30...</td><td>00a39521eb40f7012...</td><td>72595</td><td>brasilia</td><td>DF</td><td>2</td></tr>\n",
       "<tr><td>c0a44bf37d5601228...</td><td>00cc12a6d8b578b8e...</td><td>03178</td><td>sao paulo</td><td>SP</td><td>2</td></tr>\n",
       "<tr><td>102fc096604424315...</td><td>00cc12a6d8b578b8e...</td><td>03178</td><td>sao paulo</td><td>SP</td><td>2</td></tr>\n",
       "<tr><td>bc4011fd2a5106761...</td><td>011575986092c3052...</td><td>30660</td><td>belo horizonte</td><td>MG</td><td>2</td></tr>\n",
       "<tr><td>71c7265705afd84d0...</td><td>011575986092c3052...</td><td>30660</td><td>belo horizonte</td><td>MG</td><td>2</td></tr>\n",
       "<tr><td>7e16c78f08de9b2ec...</td><td>011b4adcd54683b48...</td><td>44200</td><td>santo amaro</td><td>BA</td><td>2</td></tr>\n",
       "<tr><td>3db635076c27c1d6a...</td><td>011b4adcd54683b48...</td><td>44200</td><td>santo amaro</td><td>BA</td><td>2</td></tr>\n",
       "<tr><td>f8e05a045de09e785...</td><td>012452d40dafae4df...</td><td>03220</td><td>sao paulo</td><td>SP</td><td>2</td></tr>\n",
       "<tr><td>e024c1515b1062b1e...</td><td>012452d40dafae4df...</td><td>03984</td><td>sao paulo</td><td>SP</td><td>2</td></tr>\n",
       "<tr><td>e4bee874d6368c127...</td><td>012a218df8995d3ec...</td><td>06550</td><td>pirapora do bom j...</td><td>SP</td><td>2</td></tr>\n",
       "<tr><td>c276d4ce04e35d109...</td><td>012a218df8995d3ec...</td><td>06550</td><td>pirapora do bom j...</td><td>SP</td><td>2</td></tr>\n",
       "</table>\n",
       "only showing top 20 rows\n"
      ],
      "text/plain": [
       "+--------------------+--------------------+------------------------+--------------------+--------------+-----------------+\n",
       "|         customer_id|  customer_unique_id|customer_zip_code_prefix|       customer_city|customer_state|customer_id_count|\n",
       "+--------------------+--------------------+------------------------+--------------------+--------------+-----------------+\n",
       "|1afe8a9c67eec3516...|00172711b30d52eea...|                   45200|              jequie|            BA|                2|\n",
       "|24b0e2bd287e47d54...|00172711b30d52eea...|                   45200|              jequie|            BA|                2|\n",
       "|1b4a75b3478138e99...|004288347e5e88a27...|                   26220|         nova iguacu|            RJ|                2|\n",
       "|f6efe5d5c7b85e123...|004288347e5e88a27...|                   26220|         nova iguacu|            RJ|                2|\n",
       "|49cf243e0d353cd41...|004b45ec5c6418746...|                   57055|              maceio|            AL|                2|\n",
       "|d95f60d70d9ea9a7f...|004b45ec5c6418746...|                   57035|              maceio|            AL|                2|\n",
       "|8ac44e9c15d396b8c...|0058f300f57d7b93c...|                   41370|            salvador|            BA|                2|\n",
       "|f530197ea86ced948...|0058f300f57d7b93c...|                   40731|            salvador|            BA|                2|\n",
       "|876356df457f95245...|00a39521eb40f7012...|                   72595|            brasilia|            DF|                2|\n",
       "|cbb68c721ba9ddb30...|00a39521eb40f7012...|                   72595|            brasilia|            DF|                2|\n",
       "|c0a44bf37d5601228...|00cc12a6d8b578b8e...|                   03178|           sao paulo|            SP|                2|\n",
       "|102fc096604424315...|00cc12a6d8b578b8e...|                   03178|           sao paulo|            SP|                2|\n",
       "|bc4011fd2a5106761...|011575986092c3052...|                   30660|      belo horizonte|            MG|                2|\n",
       "|71c7265705afd84d0...|011575986092c3052...|                   30660|      belo horizonte|            MG|                2|\n",
       "|3db635076c27c1d6a...|011b4adcd54683b48...|                   44200|         santo amaro|            BA|                2|\n",
       "|7e16c78f08de9b2ec...|011b4adcd54683b48...|                   44200|         santo amaro|            BA|                2|\n",
       "|e024c1515b1062b1e...|012452d40dafae4df...|                   03984|           sao paulo|            SP|                2|\n",
       "|f8e05a045de09e785...|012452d40dafae4df...|                   03220|           sao paulo|            SP|                2|\n",
       "|c276d4ce04e35d109...|012a218df8995d3ec...|                   06550|pirapora do bom j...|            SP|                2|\n",
       "|e4bee874d6368c127...|012a218df8995d3ec...|                   06550|pirapora do bom j...|            SP|                2|\n",
       "+--------------------+--------------------+------------------------+--------------------+--------------+-----------------+\n",
       "only showing top 20 rows"
      ]
     },
     "execution_count": 88,
     "metadata": {},
     "output_type": "execute_result"
    }
   ],
   "source": [
    "spark.sql(\"\"\"\n",
    "WITH repeated_customers AS\n",
    "(\n",
    "    SELECT \n",
    "        customer_unique_id,\n",
    "        COUNT(DISTINCT customer_id) AS customer_id_count\n",
    "    FROM customer\n",
    "    GROUP BY customer_unique_id\n",
    "    HAVING COUNT(DISTINCT customer_id) > 1\n",
    ")\n",
    "SELECT\n",
    "    customer.*,\n",
    "    rp.customer_id_count\n",
    "FROM customer\n",
    "    INNER JOIN repeated_customers AS rp ON\n",
    "        rp.customer_unique_id = customer.customer_unique_id\n",
    "ORDER BY customer.customer_unique_id\n",
    ";\n",
    "\"\"\"\n",
    ")"
   ]
  },
  {
   "cell_type": "markdown",
   "id": "d493bd6e-f519-439f-9227-ee56feb1ff3e",
   "metadata": {},
   "source": [
    "### Order Item\n",
    "\n",
    "**Assumptions**\n",
    "\n",
    "It seems like an intermediate table among [Product, Order and Seller] in order to show its interaction.\n",
    "\n",
    "- `order_id` FK\n",
    "- `product_id` FK\n",
    "- `seller_id` FK"
   ]
  },
  {
   "cell_type": "code",
   "execution_count": 92,
   "id": "3d15eb32-a7dc-4a0a-8e45-49edfb571943",
   "metadata": {},
   "outputs": [],
   "source": [
    "order_item_df: DataFrame = (\n",
    "    spark.read\n",
    "    .format(\"csv\")\n",
    "    .options(header=True,\n",
    "             delimiter=\",\")\n",
    "    .load(table_mapping['order_item'].as_posix())\n",
    ")customer"
   ]
  },
  {
   "cell_type": "code",
   "execution_count": 93,
   "id": "550fdf29-d13b-4859-8958-c7955918931d",
   "metadata": {},
   "outputs": [
    {
     "name": "stderr",
     "output_type": "stream",
     "text": [
      "                                                                                "
     ]
    },
    {
     "data": {
      "text/html": [
       "<table border='1'>\n",
       "<tr><th>summary</th><th>order_id</th><th>order_item_id</th><th>product_id</th><th>seller_id</th><th>shipping_limit_date</th><th>price</th><th>freight_value</th></tr>\n",
       "<tr><td>count</td><td>112650</td><td>112650</td><td>112650</td><td>112650</td><td>112650</td><td>112650</td><td>112650</td></tr>\n",
       "<tr><td>mean</td><td>NULL</td><td>1.1978339991122948</td><td>NULL</td><td>NULL</td><td>NULL</td><td>120.65373901464174</td><td>19.990319928982977</td></tr>\n",
       "<tr><td>stddev</td><td>NULL</td><td>0.7051240313951721</td><td>NULL</td><td>NULL</td><td>NULL</td><td>183.6339280502595</td><td>15.806405412297098</td></tr>\n",
       "<tr><td>min</td><td>00010242fe8c5a6d1...</td><td>1</td><td>00066f42aeeb9f300...</td><td>0015a82c2db000af6...</td><td>2016-09-19 00:15:34</td><td>0.85</td><td>0.00</td></tr>\n",
       "<tr><td>25%</td><td>NULL</td><td>1.0</td><td>NULL</td><td>NULL</td><td>NULL</td><td>39.9</td><td>13.08</td></tr>\n",
       "<tr><td>50%</td><td>NULL</td><td>1.0</td><td>NULL</td><td>NULL</td><td>NULL</td><td>74.99</td><td>16.26</td></tr>\n",
       "<tr><td>75%</td><td>NULL</td><td>1.0</td><td>NULL</td><td>NULL</td><td>NULL</td><td>134.9</td><td>21.15</td></tr>\n",
       "<tr><td>max</td><td>fffe41c64501cc87c...</td><td>9</td><td>fffe9eeff12fcbd74...</td><td>ffff564a4f9085cd2...</td><td>2020-04-09 22:35:08</td><td>999.99</td><td>99.97</td></tr>\n",
       "</table>\n"
      ],
      "text/plain": [
       "+-------+--------------------+------------------+--------------------+--------------------+-------------------+------------------+------------------+\n",
       "|summary|            order_id|     order_item_id|          product_id|           seller_id|shipping_limit_date|             price|     freight_value|\n",
       "+-------+--------------------+------------------+--------------------+--------------------+-------------------+------------------+------------------+\n",
       "|  count|              112650|            112650|              112650|              112650|             112650|            112650|            112650|\n",
       "|   mean|                NULL|1.1978339991122948|                NULL|                NULL|               NULL|120.65373901464174|19.990319928982977|\n",
       "| stddev|                NULL|0.7051240313951721|                NULL|                NULL|               NULL| 183.6339280502595|15.806405412297098|\n",
       "|    min|00010242fe8c5a6d1...|                 1|00066f42aeeb9f300...|0015a82c2db000af6...|2016-09-19 00:15:34|              0.85|              0.00|\n",
       "|    25%|                NULL|               1.0|                NULL|                NULL|               NULL|              39.9|             13.08|\n",
       "|    50%|                NULL|               1.0|                NULL|                NULL|               NULL|             74.99|             16.26|\n",
       "|    75%|                NULL|               1.0|                NULL|                NULL|               NULL|             134.9|             21.15|\n",
       "|    max|fffe41c64501cc87c...|                 9|fffe9eeff12fcbd74...|ffff564a4f9085cd2...|2020-04-09 22:35:08|            999.99|             99.97|\n",
       "+-------+--------------------+------------------+--------------------+--------------------+-------------------+------------------+------------------+"
      ]
     },
     "execution_count": 93,
     "metadata": {},
     "output_type": "execute_result"
    }
   ],
   "source": [
    "order_item_df.summary()"
   ]
  },
  {
   "cell_type": "code",
   "execution_count": 94,
   "id": "fab140b1-73c7-4a21-9474-b261239358d6",
   "metadata": {},
   "outputs": [
    {
     "name": "stdout",
     "output_type": "stream",
     "text": [
      "{\n",
      "    \"fields\": [\n",
      "        {\n",
      "            \"metadata\": {},\n",
      "            \"name\": \"order_id\",\n",
      "            \"nullable\": true,\n",
      "            \"type\": \"string\"\n",
      "        },\n",
      "        {\n",
      "            \"metadata\": {},\n",
      "            \"name\": \"order_item_id\",\n",
      "            \"nullable\": true,\n",
      "            \"type\": \"string\"\n",
      "        },\n",
      "        {\n",
      "            \"metadata\": {},\n",
      "            \"name\": \"product_id\",\n",
      "            \"nullable\": true,\n",
      "            \"type\": \"string\"\n",
      "        },\n",
      "        {\n",
      "            \"metadata\": {},\n",
      "            \"name\": \"seller_id\",\n",
      "            \"nullable\": true,\n",
      "            \"type\": \"string\"\n",
      "        },\n",
      "        {\n",
      "            \"metadata\": {},\n",
      "            \"name\": \"shipping_limit_date\",\n",
      "            \"nullable\": true,\n",
      "            \"type\": \"string\"\n",
      "        },\n",
      "        {\n",
      "            \"metadata\": {},\n",
      "            \"name\": \"price\",\n",
      "            \"nullable\": true,\n",
      "            \"type\": \"string\"\n",
      "        },\n",
      "        {\n",
      "            \"metadata\": {},\n",
      "            \"name\": \"freight_value\",\n",
      "            \"nullable\": true,\n",
      "            \"type\": \"string\"\n",
      "        }\n",
      "    ],\n",
      "    \"type\": \"struct\"\n",
      "}\n"
     ]
    }
   ],
   "source": [
    "schema_to_dict(order_item_df.schema.json())"
   ]
  },
  {
   "cell_type": "markdown",
   "id": "234a7728-77f3-4129-a976-107d3aa409e5",
   "metadata": {},
   "source": [
    "### Product\n",
    "\n",
    "**Assumptions**\n",
    "`product_id`: PK"
   ]
  },
  {
   "cell_type": "code",
   "execution_count": 97,
   "id": "92ff0a26-18c9-46bd-9e10-56a44f8b485b",
   "metadata": {},
   "outputs": [],
   "source": [
    "product_df: DataFrame = (\n",
    "    spark.read\n",
    "    .format(\"csv\")\n",
    "    .options(header=True,\n",
    "             delimiter=\",\")\n",
    "    .load(table_mapping['product'].as_posix())\n",
    ")"
   ]
  },
  {
   "cell_type": "code",
   "execution_count": 98,
   "id": "5a178549-a1c8-4363-bf20-db4dd9e42030",
   "metadata": {},
   "outputs": [
    {
     "data": {
      "text/html": [
       "<table border='1'>\n",
       "<tr><th>summary</th><th>product_id</th><th>product_category_name</th><th>product_name_lenght</th><th>product_description_lenght</th><th>product_photos_qty</th><th>product_weight_g</th><th>product_length_cm</th><th>product_height_cm</th><th>product_width_cm</th></tr>\n",
       "<tr><td>count</td><td>32951</td><td>32341</td><td>32341</td><td>32341</td><td>32341</td><td>32949</td><td>32949</td><td>32949</td><td>32949</td></tr>\n",
       "<tr><td>mean</td><td>NULL</td><td>NULL</td><td>48.47694876472589</td><td>771.4952846232337</td><td>2.1889861166939797</td><td>2276.4724877841513</td><td>30.81507784758263</td><td>16.937661234028347</td><td>23.196728277034204</td></tr>\n",
       "<tr><td>stddev</td><td>NULL</td><td>NULL</td><td>10.245740725237287</td><td>635.1152246349538</td><td>1.7367656379315435</td><td>4282.038730977024</td><td>16.914458054065953</td><td>13.637554061749569</td><td>12.079047453227794</td></tr>\n",
       "<tr><td>min</td><td>00066f42aeeb9f300...</td><td>agro_industria_e_...</td><td>10</td><td>100</td><td>1</td><td>0</td><td>10</td><td>10</td><td>10</td></tr>\n",
       "<tr><td>25%</td><td>NULL</td><td>NULL</td><td>42.0</td><td>339.0</td><td>1.0</td><td>300.0</td><td>18.0</td><td>8.0</td><td>15.0</td></tr>\n",
       "<tr><td>50%</td><td>NULL</td><td>NULL</td><td>51.0</td><td>595.0</td><td>1.0</td><td>700.0</td><td>25.0</td><td>13.0</td><td>20.0</td></tr>\n",
       "<tr><td>75%</td><td>NULL</td><td>NULL</td><td>57.0</td><td>972.0</td><td>3.0</td><td>1900.0</td><td>38.0</td><td>21.0</td><td>30.0</td></tr>\n",
       "<tr><td>max</td><td>fffe9eeff12fcbd74...</td><td>utilidades_domest...</td><td>9</td><td>999</td><td>9</td><td>998</td><td>99</td><td>99</td><td>98</td></tr>\n",
       "</table>\n"
      ],
      "text/plain": [
       "+-------+--------------------+---------------------+-------------------+--------------------------+------------------+------------------+------------------+------------------+------------------+\n",
       "|summary|          product_id|product_category_name|product_name_lenght|product_description_lenght|product_photos_qty|  product_weight_g| product_length_cm| product_height_cm|  product_width_cm|\n",
       "+-------+--------------------+---------------------+-------------------+--------------------------+------------------+------------------+------------------+------------------+------------------+\n",
       "|  count|               32951|                32341|              32341|                     32341|             32341|             32949|             32949|             32949|             32949|\n",
       "|   mean|                NULL|                 NULL|  48.47694876472589|         771.4952846232337|2.1889861166939797|2276.4724877841513| 30.81507784758263|16.937661234028347|23.196728277034204|\n",
       "| stddev|                NULL|                 NULL| 10.245740725237287|         635.1152246349538|1.7367656379315435| 4282.038730977024|16.914458054065953|13.637554061749569|12.079047453227794|\n",
       "|    min|00066f42aeeb9f300...| agro_industria_e_...|                 10|                       100|                 1|                 0|                10|                10|                10|\n",
       "|    25%|                NULL|                 NULL|               42.0|                     339.0|               1.0|             300.0|              18.0|               8.0|              15.0|\n",
       "|    50%|                NULL|                 NULL|               51.0|                     595.0|               1.0|             700.0|              25.0|              13.0|              20.0|\n",
       "|    75%|                NULL|                 NULL|               57.0|                     972.0|               3.0|            1900.0|              38.0|              21.0|              30.0|\n",
       "|    max|fffe9eeff12fcbd74...| utilidades_domest...|                  9|                       999|                 9|               998|                99|                99|                98|\n",
       "+-------+--------------------+---------------------+-------------------+--------------------------+------------------+------------------+------------------+------------------+------------------+"
      ]
     },
     "execution_count": 98,
     "metadata": {},
     "output_type": "execute_result"
    }
   ],
   "source": [
    "product_df.summary()"
   ]
  },
  {
   "cell_type": "code",
   "execution_count": 99,
   "id": "eb6affb5-6550-4de2-b667-99006015eb5c",
   "metadata": {},
   "outputs": [
    {
     "name": "stdout",
     "output_type": "stream",
     "text": [
      "{\n",
      "    \"fields\": [\n",
      "        {\n",
      "            \"metadata\": {},\n",
      "            \"name\": \"product_id\",\n",
      "            \"nullable\": true,\n",
      "            \"type\": \"string\"\n",
      "        },\n",
      "        {\n",
      "            \"metadata\": {},\n",
      "            \"name\": \"product_category_name\",\n",
      "            \"nullable\": true,\n",
      "            \"type\": \"string\"\n",
      "        },\n",
      "        {\n",
      "            \"metadata\": {},\n",
      "            \"name\": \"product_name_lenght\",\n",
      "            \"nullable\": true,\n",
      "            \"type\": \"string\"\n",
      "        },\n",
      "        {\n",
      "            \"metadata\": {},\n",
      "            \"name\": \"product_description_lenght\",\n",
      "            \"nullable\": true,\n",
      "            \"type\": \"string\"\n",
      "        },\n",
      "        {\n",
      "            \"metadata\": {},\n",
      "            \"name\": \"product_photos_qty\",\n",
      "            \"nullable\": true,\n",
      "            \"type\": \"string\"\n",
      "        },\n",
      "        {\n",
      "            \"metadata\": {},\n",
      "            \"name\": \"product_weight_g\",\n",
      "            \"nullable\": true,\n",
      "            \"type\": \"string\"\n",
      "        },\n",
      "        {\n",
      "            \"metadata\": {},\n",
      "            \"name\": \"product_length_cm\",\n",
      "            \"nullable\": true,\n",
      "            \"type\": \"string\"\n",
      "        },\n",
      "        {\n",
      "            \"metadata\": {},\n",
      "            \"name\": \"product_height_cm\",\n",
      "            \"nullable\": true,\n",
      "            \"type\": \"string\"\n",
      "        },\n",
      "        {\n",
      "            \"metadata\": {},\n",
      "            \"name\": \"product_width_cm\",\n",
      "            \"nullable\": true,\n",
      "            \"type\": \"string\"\n",
      "        }\n",
      "    ],\n",
      "    \"type\": \"struct\"\n",
      "}\n"
     ]
    }
   ],
   "source": [
    "schema_to_dict(product_df.schema.json())"
   ]
  },
  {
   "cell_type": "code",
   "execution_count": 102,
   "id": "77bcfd09-0426-4034-8492-4682a501212c",
   "metadata": {},
   "outputs": [
    {
     "data": {
      "text/plain": [
       "74"
      ]
     },
     "execution_count": 102,
     "metadata": {},
     "output_type": "execute_result"
    }
   ],
   "source": [
    "product_df.select('product_category_name').distinct().count()"
   ]
  },
  {
   "cell_type": "markdown",
   "id": "bc6a1bbc-2285-4629-8153-6aeae531c214",
   "metadata": {},
   "source": [
    "### Seller\n",
    "\n",
    "**Assumptions**\n",
    "- `seller_id`: PK\n",
    "- `seller_zip_code_prefix`: FK"
   ]
  },
  {
   "cell_type": "code",
   "execution_count": 108,
   "id": "2ca3916c-2bc8-422e-8f2c-207a62db2cf5",
   "metadata": {},
   "outputs": [],
   "source": [
    "seller_df: DataFrame = (\n",
    "    spark.read\n",
    "    .format(\"csv\")\n",
    "    .options(header=True,\n",
    "             delimiter=\",\")\n",
    "    .load(table_mapping['seller'].as_posix())\n",
    ")"
   ]
  },
  {
   "cell_type": "code",
   "execution_count": 109,
   "id": "ffed4c29-ca2f-4984-9c71-c6804ce9236a",
   "metadata": {},
   "outputs": [
    {
     "data": {
      "text/html": [
       "<table border='1'>\n",
       "<tr><th>summary</th><th>seller_id</th><th>seller_zip_code_prefix</th><th>seller_city</th><th>seller_state</th></tr>\n",
       "<tr><td>count</td><td>3095</td><td>3095</td><td>3095</td><td>3095</td></tr>\n",
       "<tr><td>mean</td><td>NULL</td><td>32291.059450726978</td><td>4482255.0</td><td>NULL</td></tr>\n",
       "<tr><td>stddev</td><td>NULL</td><td>32713.45382950901</td><td>NULL</td><td>NULL</td></tr>\n",
       "<tr><td>min</td><td>0015a82c2db000af6...</td><td>01001</td><td>04482255</td><td>AC</td></tr>\n",
       "<tr><td>25%</td><td>NULL</td><td>7093.0</td><td>4482255.0</td><td>NULL</td></tr>\n",
       "<tr><td>50%</td><td>NULL</td><td>14940.0</td><td>4482255.0</td><td>NULL</td></tr>\n",
       "<tr><td>75%</td><td>NULL</td><td>65072.0</td><td>4482255.0</td><td>NULL</td></tr>\n",
       "<tr><td>max</td><td>ffff564a4f9085cd2...</td><td>99730</td><td>xaxim</td><td>SP</td></tr>\n",
       "</table>\n"
      ],
      "text/plain": [
       "+-------+--------------------+----------------------+-----------+------------+\n",
       "|summary|           seller_id|seller_zip_code_prefix|seller_city|seller_state|\n",
       "+-------+--------------------+----------------------+-----------+------------+\n",
       "|  count|                3095|                  3095|       3095|        3095|\n",
       "|   mean|                NULL|    32291.059450726978|  4482255.0|        NULL|\n",
       "| stddev|                NULL|     32713.45382950901|       NULL|        NULL|\n",
       "|    min|0015a82c2db000af6...|                 01001|   04482255|          AC|\n",
       "|    25%|                NULL|                7093.0|  4482255.0|        NULL|\n",
       "|    50%|                NULL|               14940.0|  4482255.0|        NULL|\n",
       "|    75%|                NULL|               65072.0|  4482255.0|        NULL|\n",
       "|    max|ffff564a4f9085cd2...|                 99730|      xaxim|          SP|\n",
       "+-------+--------------------+----------------------+-----------+------------+"
      ]
     },
     "execution_count": 109,
     "metadata": {},
     "output_type": "execute_result"
    }
   ],
   "source": [
    "seller_df.summary()"
   ]
  },
  {
   "cell_type": "code",
   "execution_count": 110,
   "id": "cfc13719-9afb-4b47-b802-47345f302278",
   "metadata": {},
   "outputs": [
    {
     "name": "stdout",
     "output_type": "stream",
     "text": [
      "{\n",
      "    \"fields\": [\n",
      "        {\n",
      "            \"metadata\": {},\n",
      "            \"name\": \"seller_id\",\n",
      "            \"nullable\": true,\n",
      "            \"type\": \"string\"\n",
      "        },\n",
      "        {\n",
      "            \"metadata\": {},\n",
      "            \"name\": \"seller_zip_code_prefix\",\n",
      "            \"nullable\": true,\n",
      "            \"type\": \"string\"\n",
      "        },\n",
      "        {\n",
      "            \"metadata\": {},\n",
      "            \"name\": \"seller_city\",\n",
      "            \"nullable\": true,\n",
      "            \"type\": \"string\"\n",
      "        },\n",
      "        {\n",
      "            \"metadata\": {},\n",
      "            \"name\": \"seller_state\",\n",
      "            \"nullable\": true,\n",
      "            \"type\": \"string\"\n",
      "        }\n",
      "    ],\n",
      "    \"type\": \"struct\"\n",
      "}\n"
     ]
    }
   ],
   "source": [
    "schema_to_dict(seller_df.schema.json())"
   ]
  },
  {
   "cell_type": "markdown",
   "id": "4d01c488-9467-4dbf-a42f-4f092ca88284",
   "metadata": {},
   "source": [
    "### Geolocation\n",
    "\n",
    "**Assumptions**\n",
    "- `geolocation_zip_code_prefix`: PK"
   ]
  },
  {
   "cell_type": "code",
   "execution_count": 105,
   "id": "d62e0a44-1271-4151-8abb-fb6a9b5c1863",
   "metadata": {},
   "outputs": [],
   "source": [
    "geolocation_df: DataFrame = (\n",
    "    spark.read\n",
    "    .format(\"csv\")\n",
    "    .options(header=True,\n",
    "             delimiter=\",\")\n",
    "    .load(table_mapping['geolocation'].as_posix())\n",
    ")"
   ]
  },
  {
   "cell_type": "code",
   "execution_count": 106,
   "id": "6bc505d8-8d19-421e-b4b1-bbc561b585c7",
   "metadata": {},
   "outputs": [
    {
     "name": "stderr",
     "output_type": "stream",
     "text": [
      "                                                                                "
     ]
    },
    {
     "data": {
      "text/html": [
       "<table border='1'>\n",
       "<tr><th>summary</th><th>geolocation_zip_code_prefix</th><th>geolocation_lat</th><th>geolocation_lng</th><th>geolocation_city</th><th>geolocation_state</th></tr>\n",
       "<tr><td>count</td><td>1000163</td><td>1000163</td><td>1000163</td><td>1000163</td><td>1000163</td></tr>\n",
       "<tr><td>mean</td><td>36574.16646586607</td><td>-21.17615291038391</td><td>-46.39054132093593</td><td>NULL</td><td>NULL</td></tr>\n",
       "<tr><td>stddev</td><td>30549.335710319585</td><td>5.7158663088228705</td><td>4.2697483066195705</td><td>NULL</td><td>NULL</td></tr>\n",
       "<tr><td>min</td><td>01001</td><td>-0.00004367379244...</td><td>-101.46676644931476</td><td>* cidade</td><td>AC</td></tr>\n",
       "<tr><td>25%</td><td>11075.0</td><td>-23.603593766864766</td><td>-48.57374836733223</td><td>NULL</td><td>NULL</td></tr>\n",
       "<tr><td>50%</td><td>26530.0</td><td>-22.91938310945101</td><td>-46.63791575103784</td><td>NULL</td><td>NULL</td></tr>\n",
       "<tr><td>75%</td><td>63500.0</td><td>-19.979783996158545</td><td>-43.76747036551028</td><td>NULL</td><td>NULL</td></tr>\n",
       "<tr><td>max</td><td>99990</td><td>45.06593318269697</td><td>9.341527629906514</td><td>&oacute;leo</td><td>TO</td></tr>\n",
       "</table>\n"
      ],
      "text/plain": [
       "+-------+---------------------------+--------------------+-------------------+----------------+-----------------+\n",
       "|summary|geolocation_zip_code_prefix|     geolocation_lat|    geolocation_lng|geolocation_city|geolocation_state|\n",
       "+-------+---------------------------+--------------------+-------------------+----------------+-----------------+\n",
       "|  count|                    1000163|             1000163|            1000163|         1000163|          1000163|\n",
       "|   mean|          36574.16646586607|  -21.17615291038391| -46.39054132093593|            NULL|             NULL|\n",
       "| stddev|         30549.335710319585|  5.7158663088228705| 4.2697483066195705|            NULL|             NULL|\n",
       "|    min|                      01001|-0.00004367379244...|-101.46676644931476|        * cidade|               AC|\n",
       "|    25%|                    11075.0| -23.603593766864766| -48.57374836733223|            NULL|             NULL|\n",
       "|    50%|                    26530.0|  -22.91938310945101| -46.63791575103784|            NULL|             NULL|\n",
       "|    75%|                    63500.0| -19.979783996158545| -43.76747036551028|            NULL|             NULL|\n",
       "|    max|                      99990|   45.06593318269697|  9.341527629906514|            óleo|               TO|\n",
       "+-------+---------------------------+--------------------+-------------------+----------------+-----------------+"
      ]
     },
     "execution_count": 106,
     "metadata": {},
     "output_type": "execute_result"
    }
   ],
   "source": [
    "geolocation_df.summary()"
   ]
  },
  {
   "cell_type": "code",
   "execution_count": 107,
   "id": "aabcd070-a291-4705-b878-9cde6b3945d7",
   "metadata": {},
   "outputs": [
    {
     "name": "stdout",
     "output_type": "stream",
     "text": [
      "{\n",
      "    \"fields\": [\n",
      "        {\n",
      "            \"metadata\": {},\n",
      "            \"name\": \"geolocation_zip_code_prefix\",\n",
      "            \"nullable\": true,\n",
      "            \"type\": \"string\"\n",
      "        },\n",
      "        {\n",
      "            \"metadata\": {},\n",
      "            \"name\": \"geolocation_lat\",\n",
      "            \"nullable\": true,\n",
      "            \"type\": \"string\"\n",
      "        },\n",
      "        {\n",
      "            \"metadata\": {},\n",
      "            \"name\": \"geolocation_lng\",\n",
      "            \"nullable\": true,\n",
      "            \"type\": \"string\"\n",
      "        },\n",
      "        {\n",
      "            \"metadata\": {},\n",
      "            \"name\": \"geolocation_city\",\n",
      "            \"nullable\": true,\n",
      "            \"type\": \"string\"\n",
      "        },\n",
      "        {\n",
      "            \"metadata\": {},\n",
      "            \"name\": \"geolocation_state\",\n",
      "            \"nullable\": true,\n",
      "            \"type\": \"string\"\n",
      "        }\n",
      "    ],\n",
      "    \"type\": \"struct\"\n",
      "}\n"
     ]
    }
   ],
   "source": [
    "schema_to_dict(geolocation_df.schema.json())"
   ]
  },
  {
   "cell_type": "markdown",
   "id": "c74ef14e-9406-411f-8a96-dfeba55b7bc6",
   "metadata": {},
   "source": [
    "### Order Review\n",
    "\n",
    "**Assumptions**\n",
    "- `review_id`: PK\n",
    "- `order_id`: FK"
   ]
  },
  {
   "cell_type": "code",
   "execution_count": 25,
   "id": "e5b1c25b-b623-44ed-9123-58e0cfe12f6d",
   "metadata": {},
   "outputs": [],
   "source": [
    "order_review_df: DataFrame = (\n",
    "    spark.read\n",
    "    .format(\"csv\")\n",
    "    .options(header=True,\n",
    "             delimiter=\",\")\n",
    "    .load(table_mapping['order_review'].as_posix())\n",
    ")"
   ]
  },
  {
   "cell_type": "code",
   "execution_count": 26,
   "id": "89e7825f-7f1a-4a99-a62e-30e8a1c84065",
   "metadata": {},
   "outputs": [
    {
     "name": "stderr",
     "output_type": "stream",
     "text": [
      "25/07/05 19:48:21 WARN SparkStringUtils: Truncated the string representation of a plan since it was too large. This behavior can be adjusted by setting 'spark.sql.debug.maxToStringFields'.\n",
      "                                                                                "
     ]
    },
    {
     "data": {
      "text/html": [
       "<table border='1'>\n",
       "<tr><th>summary</th><th>review_id</th><th>order_id</th><th>review_score</th><th>review_comment_title</th><th>review_comment_message</th><th>review_creation_date</th><th>review_answer_timestamp</th></tr>\n",
       "<tr><td>count</td><td>104161</td><td>101926</td><td>101782</td><td>12005</td><td>41083</td><td>95398</td><td>95377</td></tr>\n",
       "<tr><td>mean</td><td>4.5</td><td>0.0</td><td>4.087204087597126</td><td>3.165434995880696E10</td><td>8.172413793103448</td><td>NULL</td><td>NULL</td></tr>\n",
       "<tr><td>stddev</td><td>0.7071067811865476</td><td>0.0</td><td>1.3750046423971858</td><td>5.625434750908947E11</td><td>3.1175650470615843</td><td>NULL</td><td>NULL</td></tr>\n",
       "<tr><td>min</td><td> &quot;</td><td> </td><td> &quot;</td><td> </td><td> </td><td> FOI A MINHA PRIM...</td><td> POIS N&Atilde;O CUMPREM...</td></tr>\n",
       "<tr><td>25%</td><td>4.0</td><td>0.0</td><td>4.0</td><td>5.0</td><td>8.0</td><td>NULL</td><td>NULL</td></tr>\n",
       "<tr><td>50%</td><td>4.0</td><td>0.0</td><td>5.0</td><td>10.0</td><td>10.0</td><td>NULL</td><td>NULL</td></tr>\n",
       "<tr><td>75%</td><td>5.0</td><td>0.0</td><td>5.0</td><td>10.0</td><td>10.0</td><td>NULL</td><td>NULL</td></tr>\n",
       "<tr><td>max</td><td>🤙🏼👏🏼👏🏼&quot;</td><td>visando sempre o ...</td><td>seria mais coeren...</td><td>🔟 </td><td>😡😡😡😡😡👎👎👎👎👎</td><td>veio bem embalada...</td><td>70 + R$15</td></tr>\n",
       "</table>\n"
      ],
      "text/plain": [
       "+-------+------------------+--------------------+--------------------+--------------------+----------------------+--------------------+-----------------------+\n",
       "|summary|         review_id|            order_id|        review_score|review_comment_title|review_comment_message|review_creation_date|review_answer_timestamp|\n",
       "+-------+------------------+--------------------+--------------------+--------------------+----------------------+--------------------+-----------------------+\n",
       "|  count|            104161|              101926|              101782|               12005|                 41083|               95398|                  95377|\n",
       "|   mean|               4.5|                 0.0|   4.087204087597126|3.165434995880696E10|     8.172413793103448|                NULL|                   NULL|\n",
       "| stddev|0.7071067811865476|                 0.0|  1.3750046423971858|5.625434750908947E11|    3.1175650470615843|                NULL|                   NULL|\n",
       "|    min|                 \"|                    |                   \"|                    |                      | FOI A MINHA PRIM...|    POIS NÃO CUMPREM...|\n",
       "|    25%|               4.0|                 0.0|                 4.0|                 5.0|                   8.0|                NULL|                   NULL|\n",
       "|    50%|               4.0|                 0.0|                 5.0|                10.0|                  10.0|                NULL|                   NULL|\n",
       "|    75%|               5.0|                 0.0|                 5.0|                10.0|                  10.0|                NULL|                   NULL|\n",
       "|    max|     🤙🏼👏🏼👏🏼\"|visando sempre o ...|seria mais coeren...|                 🔟 |  😡😡😡😡😡👎👎👎👎👎|veio bem embalada...|              70 + R$15|\n",
       "+-------+------------------+--------------------+--------------------+--------------------+----------------------+--------------------+-----------------------+"
      ]
     },
     "execution_count": 26,
     "metadata": {},
     "output_type": "execute_result"
    }
   ],
   "source": [
    "order_review_df.summary()"
   ]
  },
  {
   "cell_type": "code",
   "execution_count": 27,
   "id": "2fc0848e-df54-4488-ab01-aacbed59057b",
   "metadata": {},
   "outputs": [
    {
     "name": "stdout",
     "output_type": "stream",
     "text": [
      "{\n",
      "    \"fields\": [\n",
      "        {\n",
      "            \"metadata\": {},\n",
      "            \"name\": \"review_id\",\n",
      "            \"nullable\": true,\n",
      "            \"type\": \"string\"\n",
      "        },\n",
      "        {\n",
      "            \"metadata\": {},\n",
      "            \"name\": \"order_id\",\n",
      "            \"nullable\": true,\n",
      "            \"type\": \"string\"\n",
      "        },\n",
      "        {\n",
      "            \"metadata\": {},\n",
      "            \"name\": \"review_score\",\n",
      "            \"nullable\": true,\n",
      "            \"type\": \"string\"\n",
      "        },\n",
      "        {\n",
      "            \"metadata\": {},\n",
      "            \"name\": \"review_comment_title\",\n",
      "            \"nullable\": true,\n",
      "            \"type\": \"string\"\n",
      "        },\n",
      "        {\n",
      "            \"metadata\": {},\n",
      "            \"name\": \"review_comment_message\",\n",
      "            \"nullable\": true,\n",
      "            \"type\": \"string\"\n",
      "        },\n",
      "        {\n",
      "            \"metadata\": {},\n",
      "            \"name\": \"review_creation_date\",\n",
      "            \"nullable\": true,\n",
      "            \"type\": \"string\"\n",
      "        },\n",
      "        {\n",
      "            \"metadata\": {},\n",
      "            \"name\": \"review_answer_timestamp\",\n",
      "            \"nullable\": true,\n",
      "            \"type\": \"string\"\n",
      "        }\n",
      "    ],\n",
      "    \"type\": \"struct\"\n",
      "}\n"
     ]
    }
   ],
   "source": [
    "schema_to_dict(order_review_df.schema.json())"
   ]
  },
  {
   "cell_type": "code",
   "execution_count": null,
   "id": "ab153b55-cf82-4f4e-94fd-9690ec743b6f",
   "metadata": {},
   "outputs": [],
   "source": []
  },
  {
   "cell_type": "code",
   "execution_count": null,
   "id": "0be0d368-79d7-43c3-8664-f4753c9aff2a",
   "metadata": {},
   "outputs": [],
   "source": []
  },
  {
   "cell_type": "code",
   "execution_count": null,
   "id": "150bd213-251b-49e0-b35c-e83d1bc37e27",
   "metadata": {},
   "outputs": [],
   "source": []
  },
  {
   "cell_type": "code",
   "execution_count": null,
   "id": "41ee21d8-c987-47f8-861a-f7874d5ae1fc",
   "metadata": {},
   "outputs": [],
   "source": []
  },
  {
   "cell_type": "code",
   "execution_count": null,
   "id": "98784499-a990-403a-b42b-e01804b0285a",
   "metadata": {},
   "outputs": [],
   "source": []
  },
  {
   "cell_type": "code",
   "execution_count": null,
   "id": "afde8342-ecd6-4172-9549-5dda08edb6b0",
   "metadata": {},
   "outputs": [],
   "source": []
  },
  {
   "cell_type": "code",
   "execution_count": null,
   "id": "e2859e66-4a2f-4ba3-8f49-f15a29aefcf4",
   "metadata": {},
   "outputs": [],
   "source": []
  },
  {
   "cell_type": "code",
   "execution_count": null,
   "id": "8749837e-ef29-43b1-b944-517dbe904a9e",
   "metadata": {},
   "outputs": [],
   "source": []
  },
  {
   "cell_type": "code",
   "execution_count": null,
   "id": "ece605a9-76eb-49b8-9eb0-62b0673fa2f6",
   "metadata": {},
   "outputs": [],
   "source": []
  },
  {
   "cell_type": "code",
   "execution_count": null,
   "id": "8f05dc73-79bf-46c0-9187-dfffd4743111",
   "metadata": {},
   "outputs": [],
   "source": []
  },
  {
   "cell_type": "code",
   "execution_count": null,
   "id": "073cca40-a60b-402d-a8e4-f362ccd2f08f",
   "metadata": {},
   "outputs": [],
   "source": []
  },
  {
   "cell_type": "code",
   "execution_count": null,
   "id": "bdf9e783-9615-4f03-8118-315df73b1915",
   "metadata": {},
   "outputs": [],
   "source": []
  },
  {
   "cell_type": "code",
   "execution_count": null,
   "id": "134861c4-021b-4436-ab0a-fafebe8225d2",
   "metadata": {},
   "outputs": [],
   "source": []
  },
  {
   "cell_type": "code",
   "execution_count": null,
   "id": "391b96af-619f-4095-bf07-a54b8cbec809",
   "metadata": {},
   "outputs": [],
   "source": []
  },
  {
   "cell_type": "code",
   "execution_count": null,
   "id": "7bab28cf-cae0-45bc-95a9-a2975bc5c1ca",
   "metadata": {},
   "outputs": [],
   "source": []
  },
  {
   "cell_type": "code",
   "execution_count": null,
   "id": "b7e1521b-94bf-4b50-acf8-1886dc1ec444",
   "metadata": {},
   "outputs": [],
   "source": []
  }
 ],
 "metadata": {
  "kernelspec": {
   "display_name": "remix_code_challenge",
   "language": "python",
   "name": "remix_code_challenge"
  },
  "language_info": {
   "codemirror_mode": {
    "name": "ipython",
    "version": 3
   },
   "file_extension": ".py",
   "mimetype": "text/x-python",
   "name": "python",
   "nbconvert_exporter": "python",
   "pygments_lexer": "ipython3",
   "version": "3.10.9"
  }
 },
 "nbformat": 4,
 "nbformat_minor": 5
}
